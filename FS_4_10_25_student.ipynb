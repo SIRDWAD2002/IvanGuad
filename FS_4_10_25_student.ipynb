{
  "nbformat": 4,
  "nbformat_minor": 0,
  "metadata": {
    "colab": {
      "provenance": [],
      "include_colab_link": true
    },
    "kernelspec": {
      "name": "python3",
      "display_name": "Python 3"
    },
    "language_info": {
      "name": "python"
    }
  },
  "cells": [
    {
      "cell_type": "markdown",
      "metadata": {
        "id": "view-in-github",
        "colab_type": "text"
      },
      "source": [
        "<a href=\"https://colab.research.google.com/github/SIRDWAD2002/IvanGuad/blob/main/FS_4_10_25_student.ipynb\" target=\"_parent\"><img src=\"https://colab.research.google.com/assets/colab-badge.svg\" alt=\"Open In Colab\"/></a>"
      ]
    },
    {
      "cell_type": "markdown",
      "source": [
        "### import packages"
      ],
      "metadata": {
        "id": "kMXguDqIJhiC"
      }
    },
    {
      "cell_type": "code",
      "source": [
        "pip install yfinance"
      ],
      "metadata": {
        "id": "bpSqpppKJtQQ"
      },
      "execution_count": null,
      "outputs": []
    },
    {
      "cell_type": "code",
      "source": [
        "import pandas as pd\n",
        "import numpy as np\n",
        "import matplotlib.pyplot as plt\n",
        "import seaborn as sns\n",
        "import yfinance as yf"
      ],
      "metadata": {
        "id": "3McLghviJjqh"
      },
      "execution_count": null,
      "outputs": []
    },
    {
      "cell_type": "markdown",
      "source": [
        "### get data from yahoo finance"
      ],
      "metadata": {
        "id": "xWGoFBAFI8vZ"
      }
    },
    {
      "cell_type": "code",
      "source": [
        "stock ="
      ],
      "metadata": {
        "id": "YMPFEYeqz76p"
      },
      "execution_count": null,
      "outputs": []
    },
    {
      "cell_type": "code",
      "source": [
        "df ="
      ],
      "metadata": {
        "id": "T0zhxDhGz8lq"
      },
      "execution_count": null,
      "outputs": []
    },
    {
      "cell_type": "code",
      "source": [
        "#check na\n",
        "\n",
        "# if theres na, then get rid of them\n",
        "# df.dropna(inplace=True)"
      ],
      "metadata": {
        "id": "N6my_oL5I8Fr"
      },
      "execution_count": null,
      "outputs": []
    },
    {
      "cell_type": "markdown",
      "source": [
        "### basic data visualization"
      ],
      "metadata": {
        "id": "Qk6SG8_wNpTU"
      }
    },
    {
      "cell_type": "code",
      "source": [
        "# adjusted close price\n",
        "# df['Close'].plot(figsize=(15,8))"
      ],
      "metadata": {
        "id": "fdcxGhnVNNTg"
      },
      "execution_count": null,
      "outputs": []
    },
    {
      "cell_type": "code",
      "source": [
        "# price normalization\n",
        "'''\n",
        "# relative\n",
        "relative_normalization = df['Close'] / df['Close'].iloc[0]\n",
        "\n",
        "relative_normalization.plot(figsize=(15, 8))\n",
        "plt.title('Normalized Stock Close Prices (Relative)')\n",
        "plt.ylabel('Normalized Price')\n",
        "plt.xlabel('Date')\n",
        "plt.show()\n",
        "\n",
        "# min_max\n",
        "minmax_normalization = (df['Close'] - df['Close'].min()) / (df['Close'].max() - df['Close'].min())\n",
        "\n",
        "minmax_normalization.plot(figsize=(15, 8))\n",
        "plt.title('Normalized Stock Close Prices (Min-Max)')\n",
        "plt.ylabel('Normalized Price')\n",
        "plt.xlabel('Date')\n",
        "plt.show()\n",
        "\n",
        "# log returns\n",
        "log_returns = np.log(df['Close'] / df['Close'].shift(1))\n",
        "\n",
        "log_returns.plot(figsize=(15, 8))\n",
        "plt.title('Log Returns of Stock Prices')\n",
        "plt.ylabel('Log Return')\n",
        "plt.xlabel('Date')\n",
        "plt.show()\n",
        "\n",
        "'''"
      ],
      "metadata": {
        "colab": {
          "base_uri": "https://localhost:8080/",
          "height": 103
        },
        "id": "zUEyWltvTsfz",
        "outputId": "585b2534-09c2-471f-c490-6eaf8df5b1db"
      },
      "execution_count": null,
      "outputs": [
        {
          "output_type": "execute_result",
          "data": {
            "text/plain": [
              "\"\\n# relative\\nrelative_normalization = df['Close'] / df['Close'].iloc[0]\\n\\nrelative_normalization.plot(figsize=(15, 8))\\nplt.title('Normalized Stock Close Prices (Relative)')\\nplt.ylabel('Normalized Price')\\nplt.xlabel('Date')\\nplt.show()\\n\\n# min_max\\nminmax_normalization = (df['Close'] - df['Close'].min()) / (df['Close'].max() - df['Close'].min())\\n\\nminmax_normalization.plot(figsize=(15, 8))\\nplt.title('Normalized Stock Close Prices (Min-Max)')\\nplt.ylabel('Normalized Price')\\nplt.xlabel('Date')\\nplt.show()\\n\\n# log returns\\nlog_returns = np.log(df['Close'] / df['Close'].shift(1))\\n\\nlog_returns.plot(figsize=(15, 8))\\nplt.title('Log Returns of Stock Prices')\\nplt.ylabel('Log Return')\\nplt.xlabel('Date')\\nplt.show()\\n\\n\""
            ],
            "application/vnd.google.colaboratory.intrinsic+json": {
              "type": "string"
            }
          },
          "metadata": {},
          "execution_count": 11
        }
      ]
    },
    {
      "cell_type": "code",
      "source": [
        "# simple return\n",
        "'''\n",
        "simple_returns = df['Close'].pct_change()\n",
        "\n",
        "simple_returns.plot(figsize=(15, 8))\n",
        "plt.title('Simple Returns of Stock Prices')\n",
        "plt.ylabel('Simple Return')\n",
        "plt.xlabel('Date')\n",
        "plt.show()\n",
        "'''"
      ],
      "metadata": {
        "colab": {
          "base_uri": "https://localhost:8080/",
          "height": 52
        },
        "id": "OcAOXlH_XHfw",
        "outputId": "9b04fb78-cd61-4f3f-ba63-ebca378bc8b9"
      },
      "execution_count": null,
      "outputs": [
        {
          "output_type": "execute_result",
          "data": {
            "text/plain": [
              "\"\\nsimple_returns = df['Close'].pct_change()\\n\\nsimple_returns.plot(figsize=(15, 8))\\nplt.title('Simple Returns of Stock Prices')\\nplt.ylabel('Simple Return')\\nplt.xlabel('Date')\\nplt.show()\\n\""
            ],
            "application/vnd.google.colaboratory.intrinsic+json": {
              "type": "string"
            }
          },
          "metadata": {},
          "execution_count": 12
        }
      ]
    },
    {
      "cell_type": "code",
      "source": [
        "# price correlations\n"
      ],
      "metadata": {
        "id": "R7LDBG4TOIkc"
      },
      "execution_count": null,
      "outputs": []
    },
    {
      "cell_type": "markdown",
      "source": [
        "whats the problem here? how can we make it more visually pleasant?"
      ],
      "metadata": {
        "id": "iVVyyaQkRGSC"
      }
    },
    {
      "cell_type": "code",
      "source": [
        "# heatmap/matrix\n",
        "'''\n",
        "plt.figure(figsize=(12, 10))\n",
        "sns.heatmap(corr, annot=True, cmap= 'Blues', fmt=\".2f\", linewidths=.5)  # two decimal places\n",
        "\n",
        "plt.title('Correlation Matrix of Stock Prices', fontsize=16)\n",
        "plt.show()\n",
        "'''"
      ],
      "metadata": {
        "colab": {
          "base_uri": "https://localhost:8080/",
          "height": 52
        },
        "id": "zXeR2I1xQg65",
        "outputId": "34fcfb48-72a4-4c3f-8011-d461777ca74c"
      },
      "execution_count": null,
      "outputs": [
        {
          "output_type": "execute_result",
          "data": {
            "text/plain": [
              "'\\nplt.figure(figsize=(12, 10))\\nsns.heatmap(corr, annot=True, cmap= \\'Blues\\', fmt=\".2f\", linewidths=.5)  # two decimal places\\n\\nplt.title(\\'Correlation Matrix of Stock Prices\\', fontsize=16)\\nplt.show()\\n'"
            ],
            "application/vnd.google.colaboratory.intrinsic+json": {
              "type": "string"
            }
          },
          "metadata": {},
          "execution_count": 13
        }
      ]
    },
    {
      "cell_type": "markdown",
      "source": [
        "### beta"
      ],
      "metadata": {
        "id": "WhQhYLb5Zb5K"
      }
    },
    {
      "cell_type": "code",
      "source": [
        "# get SP500 data\n",
        "sp500 ="
      ],
      "metadata": {
        "id": "PkMFQmJLZuMn"
      },
      "execution_count": null,
      "outputs": []
    },
    {
      "cell_type": "code",
      "source": [
        "# log return of SP500\n",
        "sp_returns ="
      ],
      "metadata": {
        "id": "yd4enAFYcNaF"
      },
      "execution_count": null,
      "outputs": []
    },
    {
      "cell_type": "code",
      "source": [
        "# fun scatterplot\n",
        "'''\n",
        "plt.figure(figsize=(10, 6))\n",
        "plt.scatter(sp_returns, log_returns['AAPL'])\n",
        "plt.xlabel('S&P 500 Log Returns')\n",
        "plt.ylabel('AAPL Log Returns')\n",
        "plt.title('Scatter Plot of AAPL vs. S&P 500 Log Returns')\n",
        "plt.show()\n",
        "'''"
      ],
      "metadata": {
        "colab": {
          "base_uri": "https://localhost:8080/",
          "height": 52
        },
        "id": "CINLcZHTe84g",
        "outputId": "4919da6a-0bc6-498a-9e23-5d5f875ec8c3"
      },
      "execution_count": null,
      "outputs": [
        {
          "output_type": "execute_result",
          "data": {
            "text/plain": [
              "\"\\nplt.figure(figsize=(10, 6))\\nplt.scatter(sp_returns, log_returns['AAPL'])\\nplt.xlabel('S&P 500 Log Returns')\\nplt.ylabel('AAPL Log Returns')\\nplt.title('Scatter Plot of AAPL vs. S&P 500 Log Returns')\\nplt.show()\\n\""
            ],
            "application/vnd.google.colaboratory.intrinsic+json": {
              "type": "string"
            }
          },
          "metadata": {},
          "execution_count": 9
        }
      ]
    },
    {
      "cell_type": "code",
      "source": [
        "'''\n",
        "plt.figure(figsize=(10, 6))\n",
        "plt.scatter(sp_returns, log_returns['PFE'])\n",
        "plt.xlabel('S&P 500 Log Returns')\n",
        "plt.ylabel('AAPL Log Returns')\n",
        "plt.title('Scatter Plot of PFE vs. S&P 500 Log Returns')\n",
        "plt.show()\n",
        "'''"
      ],
      "metadata": {
        "colab": {
          "base_uri": "https://localhost:8080/",
          "height": 52
        },
        "id": "XtVv1RF4fVOf",
        "outputId": "d3d3f884-9144-40d2-c2e5-a4a798bd7bd8"
      },
      "execution_count": null,
      "outputs": [
        {
          "output_type": "execute_result",
          "data": {
            "text/plain": [
              "\"\\nplt.figure(figsize=(10, 6))\\nplt.scatter(sp_returns, log_returns['PFE'])\\nplt.xlabel('S&P 500 Log Returns')\\nplt.ylabel('AAPL Log Returns')\\nplt.title('Scatter Plot of PFE vs. S&P 500 Log Returns')\\nplt.show()\\n\""
            ],
            "application/vnd.google.colaboratory.intrinsic+json": {
              "type": "string"
            }
          },
          "metadata": {},
          "execution_count": 10
        }
      ]
    },
    {
      "cell_type": "markdown",
      "source": [
        "what can you say about these two plots?"
      ],
      "metadata": {
        "id": "HdV4HhonfPJR"
      }
    },
    {
      "cell_type": "code",
      "source": [
        "cov"
      ],
      "metadata": {
        "id": "LNhE1_sFbV44"
      },
      "execution_count": null,
      "outputs": []
    },
    {
      "cell_type": "code",
      "source": [
        "market_var"
      ],
      "metadata": {
        "id": "ZelnfLrpd-ws"
      },
      "execution_count": null,
      "outputs": []
    },
    {
      "cell_type": "code",
      "source": [
        "# beta for each stock\n",
        "'''\n",
        "market_var = sp_returns.var().values[0]\n",
        "\n",
        "\n",
        "beta_dict = {} #create a dictionary\n",
        "\n",
        "for stock in log_returns.columns:\n",
        "    cov_with_market = log_returns[stock].cov(sp_returns.squeeze())  # squeeze to match shape\n",
        "    beta = cov_with_market / market_var\n",
        "    beta_dict[stock] = round(beta, 4)\n",
        "\n",
        "# show the beta in a table\n",
        "beta_table = pd.DataFrame.from_dict(beta_dict, orient='index', columns=['Beta'])\n",
        "print(beta_table)\n",
        "'''"
      ],
      "metadata": {
        "colab": {
          "base_uri": "https://localhost:8080/",
          "height": 69
        },
        "id": "J4_6FMf1ggQX",
        "outputId": "78b48447-5981-4af9-dc42-9e8224f002b4"
      },
      "execution_count": null,
      "outputs": [
        {
          "output_type": "execute_result",
          "data": {
            "text/plain": [
              "\"\\nmarket_var = sp_returns.var().values[0]\\n\\n\\nbeta_dict = {} #create a dictionary\\n\\nfor stock in log_returns.columns:\\n    cov_with_market = log_returns[stock].cov(sp_returns.squeeze())  # squeeze to match shape\\n    beta = cov_with_market / market_var\\n    beta_dict[stock] = round(beta, 4)\\n\\n# show the beta in a table\\nbeta_table = pd.DataFrame.from_dict(beta_dict, orient='index', columns=['Beta'])\\nprint(beta_table)\\n\""
            ],
            "application/vnd.google.colaboratory.intrinsic+json": {
              "type": "string"
            }
          },
          "metadata": {},
          "execution_count": 16
        }
      ]
    },
    {
      "cell_type": "markdown",
      "source": [
        "### CAPM"
      ],
      "metadata": {
        "id": "2ZaHdB0bopt3"
      }
    },
    {
      "cell_type": "code",
      "source": [
        "# define market return and risk free rate\n",
        "'''\n",
        "market_return = sp_returns.mean() *252 # annualize it\n",
        "print('market return:', market_return)\n",
        "\n",
        "rf = yf.download('^TNX', start='2019-01-01', end='2024-01-01')['Close']\n",
        "rf = rf / 100\n",
        "risk_free = rf.mean().item()\n",
        "print('risk free rate:', risk_free)\n",
        "'''\n"
      ],
      "metadata": {
        "colab": {
          "base_uri": "https://localhost:8080/",
          "height": 52
        },
        "id": "SJUcS-cXmg2v",
        "outputId": "b9b8a749-46dc-4803-ddb9-f205b46f7761"
      },
      "execution_count": null,
      "outputs": [
        {
          "output_type": "execute_result",
          "data": {
            "text/plain": [
              "\"\\nmarket_return = sp_returns.mean() *252 # annualize it\\nprint('market return:', market_return)\\n\\nrf = yf.download('^TNX', start='2019-01-01', end='2024-01-01')['Close']\\nrf = rf / 100\\nrisk_free = rf.mean().item()\\nprint('risk free rate:', risk_free)\\n\""
            ],
            "application/vnd.google.colaboratory.intrinsic+json": {
              "type": "string"
            }
          },
          "metadata": {},
          "execution_count": 18
        }
      ]
    },
    {
      "cell_type": "code",
      "source": [
        "# final results\n",
        "'''\n",
        "for stock in beta_table.index:\n",
        "    beta = beta_table.loc[stock, 'Beta']\n",
        "    expected_return = risk_free + beta * (market_return - risk_free)\n",
        "    expected_return_percent = round(expected_return * 100, 2)\n",
        "    print(f\"{stock} expected annual return would be {expected_return_percent} %\")\n",
        "\n",
        "'''"
      ],
      "metadata": {
        "colab": {
          "base_uri": "https://localhost:8080/",
          "height": 52
        },
        "id": "EYeXuZl6pru6",
        "outputId": "2ac8ffe9-55ba-4aec-d5fa-8b91cb137c35"
      },
      "execution_count": null,
      "outputs": [
        {
          "output_type": "execute_result",
          "data": {
            "text/plain": [
              "'\\nfor stock in beta_table.index:\\n    beta = beta_table.loc[stock, \\'Beta\\']\\n    expected_return = risk_free + beta * (market_return - risk_free)\\n    expected_return_percent = round(expected_return * 100, 2)\\n    print(f\"{stock} expected annual return would be {expected_return_percent} %\")\\n\\n'"
            ],
            "application/vnd.google.colaboratory.intrinsic+json": {
              "type": "string"
            }
          },
          "metadata": {},
          "execution_count": 17
        }
      ]
    }
  ]
}